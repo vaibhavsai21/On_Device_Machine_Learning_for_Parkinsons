{
 "cells": [
  {
   "cell_type": "code",
   "execution_count": 9,
   "id": "c7c7c75f",
   "metadata": {},
   "outputs": [],
   "source": [
    "from keras.preprocessing.image import ImageDataGenerator\n",
    "from skimage import io\n",
    "datagen = ImageDataGenerator(        # Using Image Generator for various data augmentation\n",
    "        rotation_range = 40,\n",
    "        shear_range = 0.2,\n",
    "        zoom_range = 0.2,\n",
    "        horizontal_flip = True,\n",
    "        brightness_range = (0.5, 1.5))\n",
    "import numpy as np\n",
    "import os\n",
    "from PIL import Image                # Use PIL library for image manipulation\n",
    "image_directory = r'C:\\Users\\Vaibhav\\Downloads\\spiral\\parkinson/'\n",
    "SIZE = 224\n",
    "dataset = []\n",
    "my_images = os.listdir(image_directory)\n",
    "for i, image_name in enumerate(my_images):    \n",
    "    if (image_name.split('.')[1] == 'png'):        \n",
    "        image = io.imread(image_directory + image_name)        \n",
    "        image = Image.fromarray(image, 'RGB')                  # Converting Image to RGB format\n",
    "        image = image.resize((SIZE,SIZE))                      # Resizing the image\n",
    "        dataset.append(np.array(image))\n",
    "x = np.array(dataset)\n",
    "\n",
    "for batch in datagen.flow(x, batch_size=16,                    # Downloading the new Dataset\n",
    "                          save_to_dir= r'C:\\Users\\Vaibhav\\Downloads\\AugmentedImages\\parksinsons',\n",
    "                          save_prefix='dr',\n",
    "                          save_format='png'):    \n"
   ]
  }
 ],
 "metadata": {
  "kernelspec": {
   "display_name": "Python 3 (ipykernel)",
   "language": "python",
   "name": "python3"
  },
  "language_info": {
   "codemirror_mode": {
    "name": "ipython",
    "version": 3
   },
   "file_extension": ".py",
   "mimetype": "text/x-python",
   "name": "python",
   "nbconvert_exporter": "python",
   "pygments_lexer": "ipython3",
   "version": "3.9.7"
  }
 },
 "nbformat": 4,
 "nbformat_minor": 5
}
